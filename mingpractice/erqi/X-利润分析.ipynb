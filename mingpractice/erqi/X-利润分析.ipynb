{
 "cells": [
  {
   "cell_type": "markdown",
   "metadata": {},
   "source": [
    "# 历年利润分析。"
   ]
  },
  {
   "cell_type": "code",
   "execution_count": 8,
   "metadata": {},
   "outputs": [],
   "source": [
    "import tushare as ts\n",
    "import pandas as pd"
   ]
  },
  {
   "cell_type": "code",
   "execution_count": 9,
   "metadata": {},
   "outputs": [],
   "source": [
    "def getProfit(year,season):\n",
    "    #if ()\n",
    "    profit = ts.get_profit_data(year,season)\n",
    "    profit.to_csv(\"../../finabook/finadata/profit%d%02d.csv\"%(year,season))\n",
    "    return profit\n",
    "\n",
    "def getProfitAll():\n",
    "    for y in range(2010,2019):\n",
    "        for s in range(1,5):\n",
    "            print(\"获取利润数据: %d年，第%2d季度\"%(y,s),)\n",
    "            getProfit(y,s)\n",
    "            print(\" OK.\")\n",
    "    print(\"Finished.\")"
   ]
  },
  {
   "cell_type": "markdown",
   "metadata": {},
   "source": [
    "#### 获取所有利润数据，保存到文件。"
   ]
  },
  {
   "cell_type": "code",
   "execution_count": 10,
   "metadata": {},
   "outputs": [],
   "source": [
    "#getProfitAll()"
   ]
  },
  {
   "cell_type": "markdown",
   "metadata": {},
   "source": [
    "## 抽取透视表，形成历年数据。"
   ]
  },
  {
   "cell_type": "code",
   "execution_count": 10,
   "metadata": {},
   "outputs": [],
   "source": [
    "# 从文件载入利润数据表。指定代码、年度、季度。\n",
    "def loadProfitData(code,year,season):\n",
    "    profit = pd.read_csv(\"../../finabook/finadata/profit%d%02d.csv\"%(year,season))\n",
    "    dfprofit = profit[profit[\"code\"]==code]\n",
    "    return dfprofit\n",
    "\n",
    "# 从文件载入负债数据表。指定代码、年度、季度。\n",
    "def loadDebtData(code,year,season):\n",
    "    debt = pd.read_csv(\"../../finabook/finadata/debt%d%02d.csv\"%(year,season))\n",
    "    dfdebt = debt[debt[\"code\"]==code]\n",
    "    return dfdebt"
   ]
  },
  {
   "cell_type": "markdown",
   "metadata": {},
   "source": [
    "#### 组合时间序列。"
   ]
  },
  {
   "cell_type": "code",
   "execution_count": 20,
   "metadata": {},
   "outputs": [],
   "source": [
    "dfp = loadProfitData(300036,2017,4)"
   ]
  },
  {
   "cell_type": "code",
   "execution_count": 12,
   "metadata": {},
   "outputs": [
    {
     "data": {
      "text/html": [
       "<div>\n",
       "<style scoped>\n",
       "    .dataframe tbody tr th:only-of-type {\n",
       "        vertical-align: middle;\n",
       "    }\n",
       "\n",
       "    .dataframe tbody tr th {\n",
       "        vertical-align: top;\n",
       "    }\n",
       "\n",
       "    .dataframe thead th {\n",
       "        text-align: right;\n",
       "    }\n",
       "</style>\n",
       "<table border=\"1\" class=\"dataframe\">\n",
       "  <thead>\n",
       "    <tr style=\"text-align: right;\">\n",
       "      <th></th>\n",
       "      <th>Unnamed: 0</th>\n",
       "      <th>code</th>\n",
       "      <th>name</th>\n",
       "      <th>roe</th>\n",
       "      <th>net_profit_ratio</th>\n",
       "      <th>gross_profit_rate</th>\n",
       "      <th>net_profits</th>\n",
       "      <th>eps</th>\n",
       "      <th>business_income</th>\n",
       "      <th>bips</th>\n",
       "    </tr>\n",
       "  </thead>\n",
       "  <tbody>\n",
       "    <tr>\n",
       "      <th>1045</th>\n",
       "      <td>1045</td>\n",
       "      <td>300036</td>\n",
       "      <td>超图软件</td>\n",
       "      <td>10.86</td>\n",
       "      <td>15.7</td>\n",
       "      <td>59.1962</td>\n",
       "      <td>196.266</td>\n",
       "      <td>0.4365</td>\n",
       "      <td>1249.7585</td>\n",
       "      <td>2.7798</td>\n",
       "    </tr>\n",
       "  </tbody>\n",
       "</table>\n",
       "</div>"
      ],
      "text/plain": [
       "      Unnamed: 0    code  name    roe  net_profit_ratio  gross_profit_rate  \\\n",
       "1045        1045  300036  超图软件  10.86              15.7            59.1962   \n",
       "\n",
       "      net_profits     eps  business_income    bips  \n",
       "1045      196.266  0.4365        1249.7585  2.7798  "
      ]
     },
     "execution_count": 12,
     "metadata": {},
     "output_type": "execute_result"
    }
   ],
   "source": [
    "dfp"
   ]
  },
  {
   "cell_type": "code",
   "execution_count": null,
   "metadata": {},
   "outputs": [],
   "source": [
    "http://tushare.org/\n",
    "roe,净资产收益率(%)\n",
    "net_profit_ratio,净利率(%)\n",
    "gross_profit_rate,毛利率(%)\n",
    "net_profits,净利润(万元)\n",
    "esp,每股收益x\n",
    "business_income,营业收入(百万元)\n",
    "bips,每股主营业务收入(元)"
   ]
  },
  {
   "cell_type": "code",
   "execution_count": null,
   "metadata": {},
   "outputs": [
    {
     "name": "stdout",
     "output_type": "stream",
     "text": [
      "获取利润数据: 2010年，第 1季度\n",
      "[Getting data:]################################# OK.\n",
      "获取利润数据: 2010年，第 2季度\n",
      "[Getting data:]#################################### OK.\n",
      "获取利润数据: 2010年，第 3季度\n",
      "[Getting data:]#"
     ]
    }
   ],
   "source": [
    "getProfitAll()"
   ]
  },
  {
   "cell_type": "code",
   "execution_count": 13,
   "metadata": {},
   "outputs": [],
   "source": [
    "debt = loadDebtData(300036,2017,4)"
   ]
  },
  {
   "cell_type": "code",
   "execution_count": 14,
   "metadata": {},
   "outputs": [
    {
     "data": {
      "text/html": [
       "<div>\n",
       "<style scoped>\n",
       "    .dataframe tbody tr th:only-of-type {\n",
       "        vertical-align: middle;\n",
       "    }\n",
       "\n",
       "    .dataframe tbody tr th {\n",
       "        vertical-align: top;\n",
       "    }\n",
       "\n",
       "    .dataframe thead th {\n",
       "        text-align: right;\n",
       "    }\n",
       "</style>\n",
       "<table border=\"1\" class=\"dataframe\">\n",
       "  <thead>\n",
       "    <tr style=\"text-align: right;\">\n",
       "      <th></th>\n",
       "      <th>Unnamed: 0</th>\n",
       "      <th>code</th>\n",
       "      <th>name</th>\n",
       "      <th>currentratio</th>\n",
       "      <th>quickratio</th>\n",
       "      <th>cashratio</th>\n",
       "      <th>icratio</th>\n",
       "      <th>sheqratio</th>\n",
       "      <th>adratio</th>\n",
       "    </tr>\n",
       "  </thead>\n",
       "  <tbody>\n",
       "    <tr>\n",
       "      <th>1241</th>\n",
       "      <td>1241</td>\n",
       "      <td>300036</td>\n",
       "      <td>超图软件</td>\n",
       "      <td>2.2802</td>\n",
       "      <td>2.2638</td>\n",
       "      <td>87.1163</td>\n",
       "      <td>6936.91</td>\n",
       "      <td>69.0327</td>\n",
       "      <td>30.9673</td>\n",
       "    </tr>\n",
       "  </tbody>\n",
       "</table>\n",
       "</div>"
      ],
      "text/plain": [
       "      Unnamed: 0    code  name currentratio quickratio cashratio  icratio  \\\n",
       "1241        1241  300036  超图软件       2.2802     2.2638   87.1163  6936.91   \n",
       "\n",
       "      sheqratio  adratio  \n",
       "1241    69.0327  30.9673  "
      ]
     },
     "execution_count": 14,
     "metadata": {},
     "output_type": "execute_result"
    }
   ],
   "source": [
    "debt"
   ]
  },
  {
   "cell_type": "code",
   "execution_count": null,
   "metadata": {},
   "outputs": [],
   "source": [
    "currentratio,流动比率:流动资产/流动负债；（现金+应收账款+存货+其他各种）/流动负债\n",
    "quickratio,速动比率:(流动资产－存货)/流动负债;（现金+证券+应收账款）/流动负债\n",
    "cashratio,现金比率（现金+证券）/流动负债\n",
    "icratio,利息支付倍数（息税前利润/利息费用）\n",
    "    “息税前利润”是指利润损益表中未扣除利息费用和所得税前的利润，可以用“利润总额加利息费用”进行预测。\n",
    "    “利息费用”是指本期发生的全部应付利息，不仅包括财务费用中的利息费用，还应包括计入固定资产成本的 资本化利息。\n",
    "sheqratio,股东权益比率。股东权益/资产总额\n",
    "adratio,股东权益增长率"
   ]
  },
  {
   "cell_type": "code",
   "execution_count": 17,
   "metadata": {},
   "outputs": [],
   "source": [
    "profit = pd.read_csv(\"../../finabook/finadata/profit%d%02d.csv\"%(2017,4),nrows=10)"
   ]
  },
  {
   "cell_type": "code",
   "execution_count": 18,
   "metadata": {},
   "outputs": [
    {
     "data": {
      "text/html": [
       "<div>\n",
       "<style scoped>\n",
       "    .dataframe tbody tr th:only-of-type {\n",
       "        vertical-align: middle;\n",
       "    }\n",
       "\n",
       "    .dataframe tbody tr th {\n",
       "        vertical-align: top;\n",
       "    }\n",
       "\n",
       "    .dataframe thead th {\n",
       "        text-align: right;\n",
       "    }\n",
       "</style>\n",
       "<table border=\"1\" class=\"dataframe\">\n",
       "  <thead>\n",
       "    <tr style=\"text-align: right;\">\n",
       "      <th></th>\n",
       "      <th>Unnamed: 0</th>\n",
       "      <th>code</th>\n",
       "      <th>name</th>\n",
       "      <th>roe</th>\n",
       "      <th>net_profit_ratio</th>\n",
       "      <th>gross_profit_rate</th>\n",
       "      <th>net_profits</th>\n",
       "      <th>eps</th>\n",
       "      <th>business_income</th>\n",
       "      <th>bips</th>\n",
       "    </tr>\n",
       "  </thead>\n",
       "  <tbody>\n",
       "    <tr>\n",
       "      <th>0</th>\n",
       "      <td>0</td>\n",
       "      <td>600877</td>\n",
       "      <td>ST嘉陵</td>\n",
       "      <td>3050.19</td>\n",
       "      <td>51.31</td>\n",
       "      <td>5.3974</td>\n",
       "      <td>301.5512</td>\n",
       "      <td>0.4387</td>\n",
       "      <td>587.6242</td>\n",
       "      <td>0.8549</td>\n",
       "    </tr>\n",
       "    <tr>\n",
       "      <th>1</th>\n",
       "      <td>1</td>\n",
       "      <td>600423</td>\n",
       "      <td>*ST柳化</td>\n",
       "      <td>159.31</td>\n",
       "      <td>3.36</td>\n",
       "      <td>5.4217</td>\n",
       "      <td>61.5515</td>\n",
       "      <td>0.1541</td>\n",
       "      <td>1830.0737</td>\n",
       "      <td>4.5826</td>\n",
       "    </tr>\n",
       "    <tr>\n",
       "      <th>2</th>\n",
       "      <td>2</td>\n",
       "      <td>953</td>\n",
       "      <td>ST河化</td>\n",
       "      <td>126.44</td>\n",
       "      <td>13.33</td>\n",
       "      <td>-1.9392</td>\n",
       "      <td>29.4624</td>\n",
       "      <td>0.1001</td>\n",
       "      <td>220.8816</td>\n",
       "      <td>0.7511</td>\n",
       "    </tr>\n",
       "    <tr>\n",
       "      <th>3</th>\n",
       "      <td>3</td>\n",
       "      <td>600608</td>\n",
       "      <td>ST沪科</td>\n",
       "      <td>105.97</td>\n",
       "      <td>13.25</td>\n",
       "      <td>0.3205</td>\n",
       "      <td>62.3212</td>\n",
       "      <td>0.1895</td>\n",
       "      <td>470.0863</td>\n",
       "      <td>1.4294</td>\n",
       "    </tr>\n",
       "    <tr>\n",
       "      <th>4</th>\n",
       "      <td>4</td>\n",
       "      <td>600678</td>\n",
       "      <td>四川金顶</td>\n",
       "      <td>103.05</td>\n",
       "      <td>15.64</td>\n",
       "      <td>27.1372</td>\n",
       "      <td>28.9408</td>\n",
       "      <td>0.0829</td>\n",
       "      <td>184.9645</td>\n",
       "      <td>0.5299</td>\n",
       "    </tr>\n",
       "    <tr>\n",
       "      <th>5</th>\n",
       "      <td>5</td>\n",
       "      <td>717</td>\n",
       "      <td>韶钢松山</td>\n",
       "      <td>84.65</td>\n",
       "      <td>9.66</td>\n",
       "      <td>13.2641</td>\n",
       "      <td>2516.5474</td>\n",
       "      <td>1.0401</td>\n",
       "      <td>26038.2683</td>\n",
       "      <td>10.7617</td>\n",
       "    </tr>\n",
       "    <tr>\n",
       "      <th>6</th>\n",
       "      <td>6</td>\n",
       "      <td>600319</td>\n",
       "      <td>亚星化学</td>\n",
       "      <td>81.58</td>\n",
       "      <td>1.36</td>\n",
       "      <td>11.2734</td>\n",
       "      <td>26.6146</td>\n",
       "      <td>0.0843</td>\n",
       "      <td>1949.7807</td>\n",
       "      <td>6.1781</td>\n",
       "    </tr>\n",
       "    <tr>\n",
       "      <th>7</th>\n",
       "      <td>7</td>\n",
       "      <td>600338</td>\n",
       "      <td>西藏珠峰</td>\n",
       "      <td>65.35</td>\n",
       "      <td>45.15</td>\n",
       "      <td>72.5532</td>\n",
       "      <td>1113.6447</td>\n",
       "      <td>1.7054</td>\n",
       "      <td>2466.5269</td>\n",
       "      <td>3.7771</td>\n",
       "    </tr>\n",
       "    <tr>\n",
       "      <th>8</th>\n",
       "      <td>8</td>\n",
       "      <td>600793</td>\n",
       "      <td>宜宾纸业</td>\n",
       "      <td>63.46</td>\n",
       "      <td>7.98</td>\n",
       "      <td>8.9831</td>\n",
       "      <td>92.4647</td>\n",
       "      <td>0.8781</td>\n",
       "      <td>1157.9648</td>\n",
       "      <td>10.9968</td>\n",
       "    </tr>\n",
       "    <tr>\n",
       "      <th>9</th>\n",
       "      <td>9</td>\n",
       "      <td>16</td>\n",
       "      <td>深康佳A</td>\n",
       "      <td>63.25</td>\n",
       "      <td>16.19</td>\n",
       "      <td>11.0119</td>\n",
       "      <td>5057.0252</td>\n",
       "      <td>2.1001</td>\n",
       "      <td>31227.7632</td>\n",
       "      <td>12.9686</td>\n",
       "    </tr>\n",
       "  </tbody>\n",
       "</table>\n",
       "</div>"
      ],
      "text/plain": [
       "   Unnamed: 0    code   name      roe  net_profit_ratio  gross_profit_rate  \\\n",
       "0           0  600877   ST嘉陵  3050.19             51.31             5.3974   \n",
       "1           1  600423  *ST柳化   159.31              3.36             5.4217   \n",
       "2           2     953   ST河化   126.44             13.33            -1.9392   \n",
       "3           3  600608   ST沪科   105.97             13.25             0.3205   \n",
       "4           4  600678   四川金顶   103.05             15.64            27.1372   \n",
       "5           5     717   韶钢松山    84.65              9.66            13.2641   \n",
       "6           6  600319   亚星化学    81.58              1.36            11.2734   \n",
       "7           7  600338   西藏珠峰    65.35             45.15            72.5532   \n",
       "8           8  600793   宜宾纸业    63.46              7.98             8.9831   \n",
       "9           9      16   深康佳A    63.25             16.19            11.0119   \n",
       "\n",
       "   net_profits     eps  business_income     bips  \n",
       "0     301.5512  0.4387         587.6242   0.8549  \n",
       "1      61.5515  0.1541        1830.0737   4.5826  \n",
       "2      29.4624  0.1001         220.8816   0.7511  \n",
       "3      62.3212  0.1895         470.0863   1.4294  \n",
       "4      28.9408  0.0829         184.9645   0.5299  \n",
       "5    2516.5474  1.0401       26038.2683  10.7617  \n",
       "6      26.6146  0.0843        1949.7807   6.1781  \n",
       "7    1113.6447  1.7054        2466.5269   3.7771  \n",
       "8      92.4647  0.8781        1157.9648  10.9968  \n",
       "9    5057.0252  2.1001       31227.7632  12.9686  "
      ]
     },
     "execution_count": 18,
     "metadata": {},
     "output_type": "execute_result"
    }
   ],
   "source": [
    "profit"
   ]
  },
  {
   "cell_type": "code",
   "execution_count": 19,
   "metadata": {},
   "outputs": [],
   "source": [
    "profit = pd.read_csv(\"../../finabook/finadata/profit%d%02d.csv\"%(2017,4),chunksize=20)"
   ]
  },
  {
   "cell_type": "code",
   "execution_count": 20,
   "metadata": {},
   "outputs": [
    {
     "data": {
      "text/plain": [
       "<pandas.io.parsers.TextFileReader at 0x7f2ba862dcc0>"
      ]
     },
     "execution_count": 20,
     "metadata": {},
     "output_type": "execute_result"
    }
   ],
   "source": [
    "profit"
   ]
  },
  {
   "cell_type": "code",
   "execution_count": null,
   "metadata": {},
   "outputs": [],
   "source": []
  }
 ],
 "metadata": {
  "kernelspec": {
   "display_name": "Python 3",
   "language": "python",
   "name": "python3"
  },
  "language_info": {
   "codemirror_mode": {
    "name": "ipython",
    "version": 3
   },
   "file_extension": ".py",
   "mimetype": "text/x-python",
   "name": "python",
   "nbconvert_exporter": "python",
   "pygments_lexer": "ipython3",
   "version": "3.6.3"
  }
 },
 "nbformat": 4,
 "nbformat_minor": 2
}

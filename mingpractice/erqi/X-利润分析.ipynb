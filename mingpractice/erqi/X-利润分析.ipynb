{
 "cells": [
  {
   "cell_type": "markdown",
   "metadata": {},
   "source": [
    "# 历年利润分析。"
   ]
  },
  {
   "cell_type": "code",
   "execution_count": 2,
   "metadata": {},
   "outputs": [],
   "source": [
    "import tushare as ts\n",
    "import pandas as pd"
   ]
  },
  {
   "cell_type": "code",
   "execution_count": 18,
   "metadata": {},
   "outputs": [],
   "source": [
    "def getProfit(year,season):\n",
    "    #if ()\n",
    "    profit = ts.get_profit_data(year,season)\n",
    "    profit.to_csv(\"../../finabook/finadata/profit%d%02d.csv\"%(year,season))\n",
    "    return profit\n",
    "\n",
    "def getProfitAll():\n",
    "    for y in range(2010,2019):\n",
    "        for s in range(1,5):\n",
    "            print(\"获取利润数据: %d年，第%2d季度\"%(y,s),)\n",
    "            getProfit(y,s)\n",
    "            print(\" OK.\")\n",
    "    print(\"Finished.\")"
   ]
  },
  {
   "cell_type": "markdown",
   "metadata": {},
   "source": [
    "#### 获取所有利润数据，保存到文件。"
   ]
  },
  {
   "cell_type": "code",
   "execution_count": 10,
   "metadata": {},
   "outputs": [],
   "source": [
    "#getProfitAll()"
   ]
  },
  {
   "cell_type": "markdown",
   "metadata": {},
   "source": [
    "## 抽取透视表，形成历年数据。"
   ]
  },
  {
   "cell_type": "code",
   "execution_count": 19,
   "metadata": {},
   "outputs": [],
   "source": [
    "# 从文件载入利润数据表。指定代码、年度、季度。\n",
    "def loadProfitData(code,year,season):\n",
    "    profit = pd.read_csv(\"../../finabook/finadata/profit%d%02d.csv\"%(year,season))\n",
    "    dfprofit = profit[profit[\"code\"]==code]\n",
    "    return dfprofit\n",
    "\n",
    "# 从文件载入负债数据表。指定代码、年度、季度。\n",
    "def loadDebtData(code,year,season):\n",
    "    debt = pd.read_csv(\"../../finabook/finadata/debt%d%02d.csv\"%(year,season))\n",
    "    dfdebt = debt[debt[\"code\"]==code]\n",
    "    return dfdebt"
   ]
  },
  {
   "cell_type": "markdown",
   "metadata": {},
   "source": [
    "#### 组合时间序列。"
   ]
  },
  {
   "cell_type": "code",
   "execution_count": 20,
   "metadata": {},
   "outputs": [],
   "source": [
    "dfp = loadProfitData(300036,2017,4)"
   ]
  },
  {
   "cell_type": "code",
   "execution_count": 12,
   "metadata": {},
   "outputs": [
    {
     "data": {
      "text/html": [
       "<div>\n",
       "<style scoped>\n",
       "    .dataframe tbody tr th:only-of-type {\n",
       "        vertical-align: middle;\n",
       "    }\n",
       "\n",
       "    .dataframe tbody tr th {\n",
       "        vertical-align: top;\n",
       "    }\n",
       "\n",
       "    .dataframe thead th {\n",
       "        text-align: right;\n",
       "    }\n",
       "</style>\n",
       "<table border=\"1\" class=\"dataframe\">\n",
       "  <thead>\n",
       "    <tr style=\"text-align: right;\">\n",
       "      <th></th>\n",
       "      <th>Unnamed: 0</th>\n",
       "      <th>code</th>\n",
       "      <th>name</th>\n",
       "      <th>roe</th>\n",
       "      <th>net_profit_ratio</th>\n",
       "      <th>gross_profit_rate</th>\n",
       "      <th>net_profits</th>\n",
       "      <th>eps</th>\n",
       "      <th>business_income</th>\n",
       "      <th>bips</th>\n",
       "    </tr>\n",
       "  </thead>\n",
       "  <tbody>\n",
       "    <tr>\n",
       "      <th>1045</th>\n",
       "      <td>1045</td>\n",
       "      <td>300036</td>\n",
       "      <td>超图软件</td>\n",
       "      <td>10.86</td>\n",
       "      <td>15.7</td>\n",
       "      <td>59.1962</td>\n",
       "      <td>196.266</td>\n",
       "      <td>0.4365</td>\n",
       "      <td>1249.7585</td>\n",
       "      <td>2.7798</td>\n",
       "    </tr>\n",
       "  </tbody>\n",
       "</table>\n",
       "</div>"
      ],
      "text/plain": [
       "      Unnamed: 0    code  name    roe  net_profit_ratio  gross_profit_rate  \\\n",
       "1045        1045  300036  超图软件  10.86              15.7            59.1962   \n",
       "\n",
       "      net_profits     eps  business_income    bips  \n",
       "1045      196.266  0.4365        1249.7585  2.7798  "
      ]
     },
     "execution_count": 12,
     "metadata": {},
     "output_type": "execute_result"
    }
   ],
   "source": [
    "dfp"
   ]
  },
  {
   "cell_type": "code",
   "execution_count": null,
   "metadata": {},
   "outputs": [],
   "source": []
  },
  {
   "cell_type": "code",
   "execution_count": null,
   "metadata": {},
   "outputs": [
    {
     "name": "stdout",
     "output_type": "stream",
     "text": [
      "获取利润数据: 2010年，第 1季度\n",
      "[Getting data:]################################# OK.\n",
      "获取利润数据: 2010年，第 2季度\n",
      "[Getting data:]#################################### OK.\n",
      "获取利润数据: 2010年，第 3季度\n",
      "[Getting data:]#"
     ]
    }
   ],
   "source": [
    "getProfitAll()"
   ]
  },
  {
   "cell_type": "code",
   "execution_count": null,
   "metadata": {},
   "outputs": [],
   "source": []
  },
  {
   "cell_type": "code",
   "execution_count": null,
   "metadata": {},
   "outputs": [],
   "source": []
  }
 ],
 "metadata": {
  "kernelspec": {
   "display_name": "Python 3",
   "language": "python",
   "name": "python3"
  },
  "language_info": {
   "codemirror_mode": {
    "name": "ipython",
    "version": 3
   },
   "file_extension": ".py",
   "mimetype": "text/x-python",
   "name": "python",
   "nbconvert_exporter": "python",
   "pygments_lexer": "ipython3",
   "version": "3.6.5"
  }
 },
 "nbformat": 4,
 "nbformat_minor": 2
}

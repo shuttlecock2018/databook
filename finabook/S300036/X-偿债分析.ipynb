{
 "cells": [
  {
   "cell_type": "markdown",
   "metadata": {},
   "source": [
    "# 偿债分析"
   ]
  },
  {
   "cell_type": "code",
   "execution_count": 1,
   "metadata": {},
   "outputs": [],
   "source": [
    "import tushare as ts\n",
    "import pandas as pd"
   ]
  },
  {
   "cell_type": "code",
   "execution_count": 2,
   "metadata": {},
   "outputs": [],
   "source": [
    "def getDebt(year,season):\n",
    "    debt = ts.get_debtpaying_data(year,season)\n",
    "    debt.to_csv(\"../finadata/debt%d%02d.csv\"%(year,season))\n",
    "    return debt\n",
    "\n",
    "def getDebtAll():\n",
    "    for y in range(2010,2019):\n",
    "        for s in range(1,5):\n",
    "            print(\"获取偿债数据: %d年，第%2d季度\"%(y,s),)\n",
    "            getDebt(y,s)\n",
    "            print(\" OK.\")\n",
    "    print(\"Finished.\")"
   ]
  },
  {
   "cell_type": "code",
   "execution_count": 3,
   "metadata": {},
   "outputs": [
    {
     "name": "stdout",
     "output_type": "stream",
     "text": [
      "获取偿债数据: 2010年，第 1季度\n",
      "[Getting data:]##################################### OK.\n",
      "获取偿债数据: 2010年，第 2季度\n",
      "[Getting data:]###################################### OK.\n",
      "获取偿债数据: 2010年，第 3季度\n",
      "[Getting data:]####################################### OK.\n",
      "获取偿债数据: 2010年，第 4季度\n",
      "[Getting data:]############################################ OK.\n",
      "获取偿债数据: 2011年，第 1季度\n",
      "[Getting data:]######################################### OK.\n",
      "获取偿债数据: 2011年，第 2季度\n",
      "[Getting data:]########################################## OK.\n",
      "获取偿债数据: 2011年，第 3季度\n",
      "[Getting data:]########################################## OK.\n",
      "获取偿债数据: 2011年，第 4季度\n",
      "[Getting data:]##################################################### OK.\n",
      "获取偿债数据: 2012年，第 1季度\n",
      "[Getting data:]########################################## OK.\n",
      "获取偿债数据: 2012年，第 2季度\n",
      "[Getting data:]########################################## OK.\n",
      "获取偿债数据: 2012年，第 3季度\n",
      "[Getting data:]########################################### OK.\n",
      "获取偿债数据: 2012年，第 4季度\n",
      "[Getting data:]######################################################### OK.\n",
      "获取偿债数据: 2013年，第 1季度\n",
      "[Getting data:]########################################### OK.\n",
      "获取偿债数据: 2013年，第 2季度\n",
      "[Getting data:]########################################### OK.\n",
      "获取偿债数据: 2013年，第 3季度\n",
      "[Getting data:]############################################ OK.\n",
      "获取偿债数据: 2013年，第 4季度\n",
      "[Getting data:]########################################################### OK.\n",
      "获取偿债数据: 2014年，第 1季度\n",
      "[Getting data:]############################################### OK.\n",
      "获取偿债数据: 2014年，第 2季度\n",
      "[Getting data:]################################################ OK.\n",
      "获取偿债数据: 2014年，第 3季度\n",
      "[Getting data:]############################################### OK.\n",
      "获取偿债数据: 2014年，第 4季度\n",
      "[Getting data:]########################################################### OK.\n",
      "获取偿债数据: 2015年，第 1季度\n",
      "[Getting data:]################################################# OK.\n",
      "获取偿债数据: 2015年，第 2季度\n",
      "[Getting data:]################################################### OK.\n",
      "获取偿债数据: 2015年，第 3季度\n",
      "[Getting data:]#################################################### OK.\n",
      "获取偿债数据: 2015年，第 4季度\n",
      "[Getting data:]######################################################################################################### OK.\n",
      "获取偿债数据: 2016年，第 2季度\n",
      "[Getting data:]######################################################### OK.\n",
      "获取偿债数据: 2016年，第 3季度\n",
      "[Getting data:]########################################################## OK.\n",
      "获取偿债数据: 2016年，第 4季度\n",
      "[Getting data:]########################################################### OK.\n",
      "获取偿债数据: 2017年，第 1季度\n",
      "[Getting data:]########################################################### OK.\n",
      "获取偿债数据: 2017年，第 2季度\n",
      "[Getting data:]################################################# OK.\n",
      "获取偿债数据: 2017年，第 3季度\n",
      "[Getting data:]########################################################## OK.\n",
      "获取偿债数据: 2017年，第 4季度\n",
      "[Getting data:]########################################################### OK.\n",
      "获取偿债数据: 2018年，第 1季度\n",
      "[Getting data:]########################################################### OK.\n",
      "获取偿债数据: 2018年，第 2季度\n",
      "[Getting data:]### OK.\n",
      "获取偿债数据: 2018年，第 3季度\n",
      "[Getting data:]#"
     ]
    },
    {
     "ename": "OSError",
     "evalue": "获取失败，请检查网络.",
     "output_type": "error",
     "traceback": [
      "\u001b[0;31m---------------------------------------------------------------------------\u001b[0m",
      "\u001b[0;31mOSError\u001b[0m                                   Traceback (most recent call last)",
      "\u001b[0;32m<ipython-input-3-757c49ec567e>\u001b[0m in \u001b[0;36m<module>\u001b[0;34m()\u001b[0m\n\u001b[0;32m----> 1\u001b[0;31m \u001b[0mgetDebtAll\u001b[0m\u001b[0;34m(\u001b[0m\u001b[0;34m)\u001b[0m\u001b[0;34m\u001b[0m\u001b[0m\n\u001b[0m",
      "\u001b[0;32m<ipython-input-2-a862b8a9d92a>\u001b[0m in \u001b[0;36mgetDebtAll\u001b[0;34m()\u001b[0m\n\u001b[1;32m      8\u001b[0m         \u001b[0;32mfor\u001b[0m \u001b[0ms\u001b[0m \u001b[0;32min\u001b[0m \u001b[0mrange\u001b[0m\u001b[0;34m(\u001b[0m\u001b[0;36m1\u001b[0m\u001b[0;34m,\u001b[0m\u001b[0;36m5\u001b[0m\u001b[0;34m)\u001b[0m\u001b[0;34m:\u001b[0m\u001b[0;34m\u001b[0m\u001b[0m\n\u001b[1;32m      9\u001b[0m             \u001b[0mprint\u001b[0m\u001b[0;34m(\u001b[0m\u001b[0;34m\"获取偿债数据: %d年，第%2d季度\"\u001b[0m\u001b[0;34m%\u001b[0m\u001b[0;34m(\u001b[0m\u001b[0my\u001b[0m\u001b[0;34m,\u001b[0m\u001b[0ms\u001b[0m\u001b[0;34m)\u001b[0m\u001b[0;34m,\u001b[0m\u001b[0;34m)\u001b[0m\u001b[0;34m\u001b[0m\u001b[0m\n\u001b[0;32m---> 10\u001b[0;31m             \u001b[0mgetDebt\u001b[0m\u001b[0;34m(\u001b[0m\u001b[0my\u001b[0m\u001b[0;34m,\u001b[0m\u001b[0ms\u001b[0m\u001b[0;34m)\u001b[0m\u001b[0;34m\u001b[0m\u001b[0m\n\u001b[0m\u001b[1;32m     11\u001b[0m             \u001b[0mprint\u001b[0m\u001b[0;34m(\u001b[0m\u001b[0;34m\" OK.\"\u001b[0m\u001b[0;34m)\u001b[0m\u001b[0;34m\u001b[0m\u001b[0m\n\u001b[1;32m     12\u001b[0m     \u001b[0mprint\u001b[0m\u001b[0;34m(\u001b[0m\u001b[0;34m\"Finished.\"\u001b[0m\u001b[0;34m)\u001b[0m\u001b[0;34m\u001b[0m\u001b[0m\n",
      "\u001b[0;32m<ipython-input-2-a862b8a9d92a>\u001b[0m in \u001b[0;36mgetDebt\u001b[0;34m(year, season)\u001b[0m\n\u001b[1;32m      1\u001b[0m \u001b[0;32mdef\u001b[0m \u001b[0mgetDebt\u001b[0m\u001b[0;34m(\u001b[0m\u001b[0myear\u001b[0m\u001b[0;34m,\u001b[0m\u001b[0mseason\u001b[0m\u001b[0;34m)\u001b[0m\u001b[0;34m:\u001b[0m\u001b[0;34m\u001b[0m\u001b[0m\n\u001b[0;32m----> 2\u001b[0;31m     \u001b[0mdebt\u001b[0m \u001b[0;34m=\u001b[0m \u001b[0mts\u001b[0m\u001b[0;34m.\u001b[0m\u001b[0mget_debtpaying_data\u001b[0m\u001b[0;34m(\u001b[0m\u001b[0myear\u001b[0m\u001b[0;34m,\u001b[0m\u001b[0mseason\u001b[0m\u001b[0;34m)\u001b[0m\u001b[0;34m\u001b[0m\u001b[0m\n\u001b[0m\u001b[1;32m      3\u001b[0m     \u001b[0mdebt\u001b[0m\u001b[0;34m.\u001b[0m\u001b[0mto_csv\u001b[0m\u001b[0;34m(\u001b[0m\u001b[0;34m\"../finadata/debt%d%02d.csv\"\u001b[0m\u001b[0;34m%\u001b[0m\u001b[0;34m(\u001b[0m\u001b[0myear\u001b[0m\u001b[0;34m,\u001b[0m\u001b[0mseason\u001b[0m\u001b[0;34m)\u001b[0m\u001b[0;34m)\u001b[0m\u001b[0;34m\u001b[0m\u001b[0m\n\u001b[1;32m      4\u001b[0m     \u001b[0;32mreturn\u001b[0m \u001b[0mdebt\u001b[0m\u001b[0;34m\u001b[0m\u001b[0m\n\u001b[1;32m      5\u001b[0m \u001b[0;34m\u001b[0m\u001b[0m\n",
      "\u001b[0;32m/srv/conda/lib/python3.6/site-packages/tushare/stock/fundamental.py\u001b[0m in \u001b[0;36mget_debtpaying_data\u001b[0;34m(year, quarter)\u001b[0m\n\u001b[1;32m    343\u001b[0m     \u001b[0;32mif\u001b[0m \u001b[0mct\u001b[0m\u001b[0;34m.\u001b[0m\u001b[0m_check_input\u001b[0m\u001b[0;34m(\u001b[0m\u001b[0myear\u001b[0m\u001b[0;34m,\u001b[0m \u001b[0mquarter\u001b[0m\u001b[0;34m)\u001b[0m \u001b[0;32mis\u001b[0m \u001b[0;32mTrue\u001b[0m\u001b[0;34m:\u001b[0m\u001b[0;34m\u001b[0m\u001b[0m\n\u001b[1;32m    344\u001b[0m         \u001b[0mct\u001b[0m\u001b[0;34m.\u001b[0m\u001b[0m_write_head\u001b[0m\u001b[0;34m(\u001b[0m\u001b[0;34m)\u001b[0m\u001b[0;34m\u001b[0m\u001b[0m\n\u001b[0;32m--> 345\u001b[0;31m         \u001b[0mdf\u001b[0m \u001b[0;34m=\u001b[0m  \u001b[0m_get_debtpaying_data\u001b[0m\u001b[0;34m(\u001b[0m\u001b[0myear\u001b[0m\u001b[0;34m,\u001b[0m \u001b[0mquarter\u001b[0m\u001b[0;34m,\u001b[0m \u001b[0;36m1\u001b[0m\u001b[0;34m,\u001b[0m \u001b[0mpd\u001b[0m\u001b[0;34m.\u001b[0m\u001b[0mDataFrame\u001b[0m\u001b[0;34m(\u001b[0m\u001b[0;34m)\u001b[0m\u001b[0;34m)\u001b[0m\u001b[0;34m\u001b[0m\u001b[0m\n\u001b[0m\u001b[1;32m    346\u001b[0m         \u001b[0;32mif\u001b[0m \u001b[0mdf\u001b[0m \u001b[0;32mis\u001b[0m \u001b[0;32mnot\u001b[0m \u001b[0;32mNone\u001b[0m\u001b[0;34m:\u001b[0m\u001b[0;34m\u001b[0m\u001b[0m\n\u001b[1;32m    347\u001b[0m \u001b[0;31m#             df = df.drop_duplicates('code')\u001b[0m\u001b[0;34m\u001b[0m\u001b[0;34m\u001b[0m\u001b[0m\n",
      "\u001b[0;32m/srv/conda/lib/python3.6/site-packages/tushare/stock/fundamental.py\u001b[0m in \u001b[0;36m_get_debtpaying_data\u001b[0;34m(year, quarter, pageNo, dataArr, retry_count, pause)\u001b[0m\n\u001b[1;32m    380\u001b[0m         \u001b[0;32mexcept\u001b[0m \u001b[0mException\u001b[0m \u001b[0;32mas\u001b[0m \u001b[0me\u001b[0m\u001b[0;34m:\u001b[0m\u001b[0;34m\u001b[0m\u001b[0m\n\u001b[1;32m    381\u001b[0m             \u001b[0;32mpass\u001b[0m\u001b[0;34m\u001b[0m\u001b[0m\n\u001b[0;32m--> 382\u001b[0;31m     \u001b[0;32mraise\u001b[0m \u001b[0mIOError\u001b[0m\u001b[0;34m(\u001b[0m\u001b[0mct\u001b[0m\u001b[0;34m.\u001b[0m\u001b[0mNETWORK_URL_ERROR_MSG\u001b[0m\u001b[0;34m)\u001b[0m\u001b[0;34m\u001b[0m\u001b[0m\n\u001b[0m\u001b[1;32m    383\u001b[0m \u001b[0;34m\u001b[0m\u001b[0m\n\u001b[1;32m    384\u001b[0m \u001b[0;34m\u001b[0m\u001b[0m\n",
      "\u001b[0;31mOSError\u001b[0m: 获取失败，请检查网络."
     ]
    }
   ],
   "source": [
    "getDebtAll()"
   ]
  },
  {
   "cell_type": "code",
   "execution_count": null,
   "metadata": {},
   "outputs": [],
   "source": []
  }
 ],
 "metadata": {
  "kernelspec": {
   "display_name": "Python 3",
   "language": "python",
   "name": "python3"
  },
  "language_info": {
   "codemirror_mode": {
    "name": "ipython",
    "version": 3
   },
   "file_extension": ".py",
   "mimetype": "text/x-python",
   "name": "python",
   "nbconvert_exporter": "python",
   "pygments_lexer": "ipython3",
   "version": "3.6.5"
  }
 },
 "nbformat": 4,
 "nbformat_minor": 2
}

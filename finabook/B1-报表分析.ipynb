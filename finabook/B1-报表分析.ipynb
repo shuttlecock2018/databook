{
 "cells": [
  {
   "cell_type": "markdown",
   "metadata": {},
   "source": [
    "# 报表分析\n",
    "\n",
    "从大盘指标的基本面数据提取给定代码的历史数据。\n",
    "\n",
    "分为两个维度：\n",
    "- 提取当期的不同指标，反映当期的各方面情况和均衡性。\n",
    "- 提取同一指标的时间序列，反映单项指标的变化和成长性。"
   ]
  },
  {
   "cell_type": "code",
   "execution_count": 2,
   "metadata": {},
   "outputs": [],
   "source": [
    "import tushare as ts\n",
    "import pandas as pd"
   ]
  },
  {
   "cell_type": "markdown",
   "metadata": {},
   "source": [
    "## 1、获取数据\n",
    "\n",
    "提取全部利润和负债数据，并保存到文件。"
   ]
  },
  {
   "cell_type": "code",
   "execution_count": 24,
   "metadata": {},
   "outputs": [],
   "source": [
    "def getProfit(year,season):\n",
    "    #if ()\n",
    "    profit = ts.get_profit_data(year,season)\n",
    "    profit.to_csv(\"../finadata/profit%d%02d.csv\"%(year,season))#保存文件\n",
    "    return profit\n",
    "\n",
    "def getProfitAll():\n",
    "    for y in range(2010,2019):\n",
    "        for s in range(1,5):\n",
    "            print(\"获取利润数据: %d年，第%2d季度\"%(y,s),)\n",
    "            getProfit(y,s)\n",
    "            print(\" OK.\")\n",
    "    print(\"Finished.\")\n",
    "    \n",
    "def getDebt(year,season):\n",
    "    debt = ts.get_debtpaying_data(year,season)\n",
    "    debt.to_csv(\"../finadata/debt%d%02d.csv\"%(year,season))\n",
    "    return debt\n",
    "\n",
    "def getDebtAll():\n",
    "    for y in range(2010,2019):\n",
    "        for s in range(1,5):\n",
    "            print(\"获取偿债数据: %d年，第%2d季度\"%(y,s),)\n",
    "            getDebt(y,s)\n",
    "            print(\" OK.\")\n",
    "    print(\"Finished.\")    "
   ]
  },
  {
   "cell_type": "markdown",
   "metadata": {},
   "source": [
    "#### 提取利润数据保存到文件。"
   ]
  },
  {
   "cell_type": "code",
   "execution_count": 13,
   "metadata": {},
   "outputs": [
    {
     "name": "stdout",
     "output_type": "stream",
     "text": [
      "Get profit data...\n",
      "[Getting data:]###########################################################Finished.\n",
      "Get profit data...\n",
      "[Getting data:]###########################################################Finished.\n"
     ]
    }
   ],
   "source": [
    "getProfitAll()"
   ]
  },
  {
   "cell_type": "markdown",
   "metadata": {},
   "source": [
    "#### 提取负债数据保存到文件。"
   ]
  },
  {
   "cell_type": "code",
   "execution_count": null,
   "metadata": {},
   "outputs": [],
   "source": [
    "getDebtAll()"
   ]
  },
  {
   "cell_type": "markdown",
   "metadata": {},
   "source": [
    "# 2、分析数据。"
   ]
  },
  {
   "cell_type": "markdown",
   "metadata": {},
   "source": [
    "#### 利润整体分析。"
   ]
  },
  {
   "cell_type": "code",
   "execution_count": 3,
   "metadata": {},
   "outputs": [],
   "source": [
    "profit = pd.read_csv(\"./finadata/profit201801.csv\")"
   ]
  },
  {
   "cell_type": "code",
   "execution_count": 10,
   "metadata": {},
   "outputs": [
    {
     "data": {
      "text/plain": [
       "Index(['Unnamed: 0', 'code', 'name', 'roe', 'net_profit_ratio',\n",
       "       'gross_profit_rate', 'net_profits', 'eps', 'business_income', 'bips'],\n",
       "      dtype='object')"
      ]
     },
     "execution_count": 10,
     "metadata": {},
     "output_type": "execute_result"
    }
   ],
   "source": [
    "profit.columns"
   ]
  },
  {
   "cell_type": "code",
   "execution_count": 11,
   "metadata": {},
   "outputs": [
    {
     "data": {
      "text/html": [
       "<div>\n",
       "<style scoped>\n",
       "    .dataframe tbody tr th:only-of-type {\n",
       "        vertical-align: middle;\n",
       "    }\n",
       "\n",
       "    .dataframe tbody tr th {\n",
       "        vertical-align: top;\n",
       "    }\n",
       "\n",
       "    .dataframe thead th {\n",
       "        text-align: right;\n",
       "    }\n",
       "</style>\n",
       "<table border=\"1\" class=\"dataframe\">\n",
       "  <thead>\n",
       "    <tr style=\"text-align: right;\">\n",
       "      <th></th>\n",
       "      <th>Unnamed: 0</th>\n",
       "      <th>code</th>\n",
       "      <th>name</th>\n",
       "      <th>roe</th>\n",
       "      <th>net_profit_ratio</th>\n",
       "      <th>gross_profit_rate</th>\n",
       "      <th>net_profits</th>\n",
       "      <th>eps</th>\n",
       "      <th>business_income</th>\n",
       "      <th>bips</th>\n",
       "    </tr>\n",
       "  </thead>\n",
       "  <tbody>\n",
       "    <tr>\n",
       "      <th>2466</th>\n",
       "      <td>2466</td>\n",
       "      <td>300036</td>\n",
       "      <td>超图软件</td>\n",
       "      <td>0.7</td>\n",
       "      <td>5.4</td>\n",
       "      <td>52.721</td>\n",
       "      <td>12.767</td>\n",
       "      <td>0.0284</td>\n",
       "      <td>236.2086</td>\n",
       "      <td>0.5254</td>\n",
       "    </tr>\n",
       "  </tbody>\n",
       "</table>\n",
       "</div>"
      ],
      "text/plain": [
       "      Unnamed: 0    code  name  roe  net_profit_ratio  gross_profit_rate  \\\n",
       "2466        2466  300036  超图软件  0.7               5.4             52.721   \n",
       "\n",
       "      net_profits     eps  business_income    bips  \n",
       "2466       12.767  0.0284         236.2086  0.5254  "
      ]
     },
     "execution_count": 11,
     "metadata": {},
     "output_type": "execute_result"
    }
   ],
   "source": [
    "profit[profit[\"code\"]==300036]#选择编号，否则是所有股票"
   ]
  },
  {
   "cell_type": "markdown",
   "metadata": {},
   "source": [
    "#### 负债整体分析。"
   ]
  },
  {
   "cell_type": "code",
   "execution_count": 11,
   "metadata": {},
   "outputs": [
    {
     "data": {
      "text/html": [
       "<div>\n",
       "<style scoped>\n",
       "    .dataframe tbody tr th:only-of-type {\n",
       "        vertical-align: middle;\n",
       "    }\n",
       "\n",
       "    .dataframe tbody tr th {\n",
       "        vertical-align: top;\n",
       "    }\n",
       "\n",
       "    .dataframe thead th {\n",
       "        text-align: right;\n",
       "    }\n",
       "</style>\n",
       "<table border=\"1\" class=\"dataframe\">\n",
       "  <thead>\n",
       "    <tr style=\"text-align: right;\">\n",
       "      <th></th>\n",
       "      <th>code</th>\n",
       "      <th>name</th>\n",
       "      <th>currentratio</th>\n",
       "      <th>quickratio</th>\n",
       "      <th>cashratio</th>\n",
       "      <th>icratio</th>\n",
       "      <th>sheqratio</th>\n",
       "      <th>adratio</th>\n",
       "    </tr>\n",
       "  </thead>\n",
       "  <tbody>\n",
       "    <tr>\n",
       "      <th>1096</th>\n",
       "      <td>300036</td>\n",
       "      <td>超图软件</td>\n",
       "      <td>2.6029</td>\n",
       "      <td>2.5816</td>\n",
       "      <td>65.4612</td>\n",
       "      <td>1268.12</td>\n",
       "      <td>72.4788</td>\n",
       "      <td>27.5212</td>\n",
       "    </tr>\n",
       "  </tbody>\n",
       "</table>\n",
       "</div>"
      ],
      "text/plain": [
       "        code  name currentratio quickratio cashratio  icratio  sheqratio  \\\n",
       "1096  300036  超图软件       2.6029     2.5816   65.4612  1268.12    72.4788   \n",
       "\n",
       "      adratio  \n",
       "1096  27.5212  "
      ]
     },
     "execution_count": 11,
     "metadata": {},
     "output_type": "execute_result"
    }
   ],
   "source": [
    "debt[debt[\"code\"]==\"300036\"]"
   ]
  },
  {
   "cell_type": "code",
   "execution_count": 3,
   "metadata": {},
   "outputs": [],
   "source": [
    "profit = pd.read_csv(\"./finadata/profit201802.csv\")"
   ]
  },
  {
   "cell_type": "code",
   "execution_count": 5,
   "metadata": {},
   "outputs": [
    {
     "data": {
      "text/html": [
       "<div>\n",
       "<style scoped>\n",
       "    .dataframe tbody tr th:only-of-type {\n",
       "        vertical-align: middle;\n",
       "    }\n",
       "\n",
       "    .dataframe tbody tr th {\n",
       "        vertical-align: top;\n",
       "    }\n",
       "\n",
       "    .dataframe thead th {\n",
       "        text-align: right;\n",
       "    }\n",
       "</style>\n",
       "<table border=\"1\" class=\"dataframe\">\n",
       "  <thead>\n",
       "    <tr style=\"text-align: right;\">\n",
       "      <th></th>\n",
       "      <th>Unnamed: 0</th>\n",
       "      <th>code</th>\n",
       "      <th>name</th>\n",
       "      <th>roe</th>\n",
       "      <th>net_profit_ratio</th>\n",
       "      <th>gross_profit_rate</th>\n",
       "      <th>net_profits</th>\n",
       "      <th>eps</th>\n",
       "      <th>business_income</th>\n",
       "      <th>bips</th>\n",
       "    </tr>\n",
       "  </thead>\n",
       "  <tbody>\n",
       "  </tbody>\n",
       "</table>\n",
       "</div>"
      ],
      "text/plain": [
       "Empty DataFrame\n",
       "Columns: [Unnamed: 0, code, name, roe, net_profit_ratio, gross_profit_rate, net_profits, eps, business_income, bips]\n",
       "Index: []"
      ]
     },
     "execution_count": 5,
     "metadata": {},
     "output_type": "execute_result"
    }
   ],
   "source": [
    "profit[profit[\"code\"]==300036]#选择编号，否则是所有股票"
   ]
  },
  {
   "cell_type": "code",
   "execution_count": null,
   "metadata": {},
   "outputs": [],
   "source": []
  }
 ],
 "metadata": {
  "kernelspec": {
   "display_name": "Python 3",
   "language": "python",
   "name": "python3"
  },
  "language_info": {
   "codemirror_mode": {
    "name": "ipython",
    "version": 3
   },
   "file_extension": ".py",
   "mimetype": "text/x-python",
   "name": "python",
   "nbconvert_exporter": "python",
   "pygments_lexer": "ipython3",
   "version": "3.6.5"
  }
 },
 "nbformat": 4,
 "nbformat_minor": 2
}
